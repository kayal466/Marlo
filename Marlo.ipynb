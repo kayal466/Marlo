{
  "nbformat": 4,
  "nbformat_minor": 0,
  "metadata": {
    "colab": {
      "provenance": []
    },
    "kernelspec": {
      "name": "python3",
      "display_name": "Python 3"
    },
    "language_info": {
      "name": "python"
    }
  },
  "cells": [
    {
      "cell_type": "code",
      "source": [
        "class User:\n",
        "\n",
        "    def __init__(self, name, username, password):\n",
        "        self.name = name\n",
        "        self.username = username\n",
        "        self.password = password\n",
        "        self.loggedIn = True\n",
        "\n",
        "\n",
        "def home(user):\n",
        "    print(\"Login, Register\")\n",
        "    a = input(\"What would you like to do: \")\n",
        "    if(a == \"register\" or a == \"Register\"):\n",
        "        register()\n",
        "    elif(a == \"Login\" or a == \"login\"):\n",
        "        login(user)\n",
        "    else:\n",
        "        print(\"Choose a valid option\")\n",
        "        home('')\n",
        "\n",
        "def register():\n",
        "    n = input(\"Name: \")\n",
        "    u = input(\"Username: \")\n",
        "    p = input(\"Password: \")\n",
        "    u = User(n, u, p)\n",
        "    print(\"Welcome, \" + u.name)\n",
        "    home(u)\n",
        "\n",
        "\n",
        "def login(user):\n",
        "    l = input(\"Username: \")\n",
        "    l2 =str(input(\"Password\"))\n",
        "    if(l2 == user.password):\n",
        "        print(\"Welcome, \" + user.name)\n",
        "    else:\n",
        "        print(\"Incorrect username or password\")\n",
        "        login(user)\n",
        "    home('')\n",
        "\n",
        "home('')\n",
        "\n",
        "def Product(user):\n",
        "  r=input(\"Please share your review:\")\n",
        "  rating=float(input())\n",
        "  if(l==r):\n",
        "    print('thank you'+user.name)\n",
        "  else:\n",
        "    print('sorry')\n",
        "\n",
        "\n"
      ],
      "metadata": {
        "colab": {
          "base_uri": "https://localhost:8080/"
        },
        "id": "PSjYGksJEwyJ",
        "outputId": "e35d804c-e744-4d90-8689-5a351b77807b"
      },
      "execution_count": null,
      "outputs": [
        {
          "metadata": {
            "tags": null
          },
          "name": "stdout",
          "output_type": "stream",
          "text": [
            "Login, Register\n"
          ]
        }
      ]
    }
  ]
}